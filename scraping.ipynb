{
 "cells": [
  {
   "cell_type": "code",
   "execution_count": 1,
   "metadata": {
    "colab": {
     "base_uri": "https://localhost:8080/"
    },
    "id": "af6YncM4y_8_",
    "outputId": "980cdc08-7dde-4730-8679-ecfd469c9db2"
   },
   "outputs": [
    {
     "name": "stdout",
     "output_type": "stream",
     "text": [
      "Requirement already satisfied: wget in /usr/local/lib/python3.7/dist-packages (3.2)\n"
     ]
    }
   ],
   "source": [
    "!pip install wget"
   ]
  },
  {
   "cell_type": "code",
   "execution_count": 2,
   "metadata": {
    "id": "P2FKkGB9xQiG"
   },
   "outputs": [],
   "source": [
    "import numpy as np\n",
    "import pandas as pd"
   ]
  },
  {
   "cell_type": "code",
   "execution_count": 3,
   "metadata": {
    "colab": {
     "base_uri": "https://localhost:8080/",
     "height": 204
    },
    "id": "vQWbdJ7pxZZV",
    "outputId": "6f7adfb3-9aa8-4c4a-c896-1f5f97ff1eb8"
   },
   "outputs": [
    {
     "data": {
      "text/html": [
       "<div>\n",
       "<style scoped>\n",
       "    .dataframe tbody tr th:only-of-type {\n",
       "        vertical-align: middle;\n",
       "    }\n",
       "\n",
       "    .dataframe tbody tr th {\n",
       "        vertical-align: top;\n",
       "    }\n",
       "\n",
       "    .dataframe thead th {\n",
       "        text-align: right;\n",
       "    }\n",
       "</style>\n",
       "<table border=\"1\" class=\"dataframe\">\n",
       "  <thead>\n",
       "    <tr style=\"text-align: right;\">\n",
       "      <th></th>\n",
       "      <th>barcode</th>\n",
       "      <th>nodeid3</th>\n",
       "    </tr>\n",
       "  </thead>\n",
       "  <tbody>\n",
       "    <tr>\n",
       "      <th>0</th>\n",
       "      <td>3307139936826</td>\n",
       "      <td>28538</td>\n",
       "    </tr>\n",
       "    <tr>\n",
       "      <th>1</th>\n",
       "      <td>3770001023823</td>\n",
       "      <td>1909</td>\n",
       "    </tr>\n",
       "    <tr>\n",
       "      <th>2</th>\n",
       "      <td>3770001023793</td>\n",
       "      <td>28543</td>\n",
       "    </tr>\n",
       "    <tr>\n",
       "      <th>3</th>\n",
       "      <td>3560070538805</td>\n",
       "      <td>1912</td>\n",
       "    </tr>\n",
       "    <tr>\n",
       "      <th>4</th>\n",
       "      <td>3700146205532</td>\n",
       "      <td>28543</td>\n",
       "    </tr>\n",
       "  </tbody>\n",
       "</table>\n",
       "</div>"
      ],
      "text/plain": [
       "         barcode  nodeid3\n",
       "0  3307139936826    28538\n",
       "1  3770001023823     1909\n",
       "2  3770001023793    28543\n",
       "3  3560070538805     1912\n",
       "4  3700146205532    28543"
      ]
     },
     "execution_count": 3,
     "metadata": {
      "tags": []
     },
     "output_type": "execute_result"
    }
   ],
   "source": [
    "products = pd.read_csv(\"products.csv\")\n",
    "products.head()"
   ]
  },
  {
   "cell_type": "code",
   "execution_count": 4,
   "metadata": {
    "id": "d5cqtA6uxgNL"
   },
   "outputs": [],
   "source": [
    "barcodes = list(products.barcode.values)"
   ]
  },
  {
   "cell_type": "code",
   "execution_count": 5,
   "metadata": {
    "id": "PyeGHaVtzRLY"
   },
   "outputs": [],
   "source": [
    "import os\n",
    "os.mkdir(\"added-images\")\n",
    "os.chdir(\"added-images\")"
   ]
  },
  {
   "cell_type": "code",
   "execution_count": 6,
   "metadata": {
    "colab": {
     "base_uri": "https://localhost:8080/"
    },
    "id": "pVtky4_4xhn5",
    "outputId": "5d7fad9a-7a5d-4db6-c2b2-9ef6f74a144c"
   },
   "outputs": [
    {
     "name": "stdout",
     "output_type": "stream",
     "text": [
      "Image Successfully Downloaded:  image_1.jpg\n",
      "Image Successfully Downloaded:  image_2.jpg\n",
      "Image Successfully Downloaded:  image_3.jpg\n",
      "Image Successfully Downloaded:  image_4.jpg\n",
      "Image Successfully Downloaded:  image_5.jpg\n",
      "Image Successfully Downloaded:  image_6.jpg\n",
      "Image Successfully Downloaded:  image_7.jpg\n",
      "Image Successfully Downloaded:  image_8.jpg\n",
      "Image Successfully Downloaded:  image_9.jpg\n",
      "Image Successfully Downloaded:  image_10.jpg\n"
     ]
    }
   ],
   "source": [
    "import requests\n",
    "import wget\n",
    "\n",
    "images_name = []\n",
    "for i, barcode in enumerate(barcodes):\n",
    "    url = f\"https://fr.openfoodfacts.org//api/v0/produit/{barcode}\"\n",
    "    req = requests.get(url)\n",
    "    data = req.json()\n",
    "    if \"product\" in data:\n",
    "        image = data[\"product\"].get(\"image_url\")\n",
    "        if image is not None:\n",
    "            name = \"image_\" + str(i) + image[-4:]\n",
    "            images_name.append([barcode, name])\n",
    "            image_filename = wget.download(image, name)\n",
    "            print('Image Successfully Downloaded: ', image_filename)"
   ]
  },
  {
   "cell_type": "code",
   "execution_count": 7,
   "metadata": {
    "id": "GiJaZ32ICCx3"
   },
   "outputs": [],
   "source": [
    "os.chdir(\"../\")"
   ]
  },
  {
   "cell_type": "code",
   "execution_count": 8,
   "metadata": {
    "colab": {
     "base_uri": "https://localhost:8080/"
    },
    "id": "yePI9YnGCE4-",
    "outputId": "0a91e5f3-6e99-46de-a08b-a8042016c230"
   },
   "outputs": [
    {
     "name": "stdout",
     "output_type": "stream",
     "text": [
      "  adding: added-images/ (stored 0%)\n",
      "  adding: added-images/image_4.jpg (deflated 0%)\n",
      "  adding: added-images/image_2.jpg (deflated 0%)\n",
      "  adding: added-images/image_3.jpg (deflated 1%)\n",
      "  adding: added-images/image_7.jpg (deflated 0%)\n",
      "  adding: added-images/image_8.jpg (deflated 0%)\n",
      "  adding: added-images/image_5.jpg (deflated 0%)\n",
      "  adding: added-images/image_6.jpg (deflated 0%)\n",
      "  adding: added-images/image_1.jpg (deflated 0%)\n",
      "  adding: added-images/image_9.jpg (deflated 0%)\n",
      "  adding: added-images/image_10.jpg (deflated 0%)\n"
     ]
    }
   ],
   "source": [
    "!zip -r added-images.zip added-images/"
   ]
  },
  {
   "cell_type": "code",
   "execution_count": 9,
   "metadata": {
    "colab": {
     "base_uri": "https://localhost:8080/",
     "height": 204
    },
    "id": "otVGH-xOCyoy",
    "outputId": "5a6f9bdf-0c24-473a-fe9d-43cb09ef708c"
   },
   "outputs": [
    {
     "data": {
      "text/html": [
       "<div>\n",
       "<style scoped>\n",
       "    .dataframe tbody tr th:only-of-type {\n",
       "        vertical-align: middle;\n",
       "    }\n",
       "\n",
       "    .dataframe tbody tr th {\n",
       "        vertical-align: top;\n",
       "    }\n",
       "\n",
       "    .dataframe thead th {\n",
       "        text-align: right;\n",
       "    }\n",
       "</style>\n",
       "<table border=\"1\" class=\"dataframe\">\n",
       "  <thead>\n",
       "    <tr style=\"text-align: right;\">\n",
       "      <th></th>\n",
       "      <th>barcode</th>\n",
       "      <th>filename</th>\n",
       "    </tr>\n",
       "  </thead>\n",
       "  <tbody>\n",
       "    <tr>\n",
       "      <th>0</th>\n",
       "      <td>3770001023823</td>\n",
       "      <td>image_1.jpg</td>\n",
       "    </tr>\n",
       "    <tr>\n",
       "      <th>1</th>\n",
       "      <td>3770001023793</td>\n",
       "      <td>image_2.jpg</td>\n",
       "    </tr>\n",
       "    <tr>\n",
       "      <th>2</th>\n",
       "      <td>3560070538805</td>\n",
       "      <td>image_3.jpg</td>\n",
       "    </tr>\n",
       "    <tr>\n",
       "      <th>3</th>\n",
       "      <td>3700146205532</td>\n",
       "      <td>image_4.jpg</td>\n",
       "    </tr>\n",
       "    <tr>\n",
       "      <th>4</th>\n",
       "      <td>3329480018815</td>\n",
       "      <td>image_5.jpg</td>\n",
       "    </tr>\n",
       "  </tbody>\n",
       "</table>\n",
       "</div>"
      ],
      "text/plain": [
       "         barcode     filename\n",
       "0  3770001023823  image_1.jpg\n",
       "1  3770001023793  image_2.jpg\n",
       "2  3560070538805  image_3.jpg\n",
       "3  3700146205532  image_4.jpg\n",
       "4  3329480018815  image_5.jpg"
      ]
     },
     "execution_count": 9,
     "metadata": {
      "tags": []
     },
     "output_type": "execute_result"
    }
   ],
   "source": [
    "df = pd.DataFrame(images_name, columns=['barcode', 'filename'])\n",
    "df.head()"
   ]
  },
  {
   "cell_type": "code",
   "execution_count": 10,
   "metadata": {
    "id": "QR38VvirDCVG"
   },
   "outputs": [],
   "source": [
    "added_images = pd.merge(df, products, on='barcode')"
   ]
  },
  {
   "cell_type": "code",
   "execution_count": 11,
   "metadata": {
    "colab": {
     "base_uri": "https://localhost:8080/",
     "height": 204
    },
    "id": "N-zJg6JqDO1-",
    "outputId": "8cecb11b-41f4-4884-d525-d1d3c1d6a514"
   },
   "outputs": [
    {
     "data": {
      "text/html": [
       "<div>\n",
       "<style scoped>\n",
       "    .dataframe tbody tr th:only-of-type {\n",
       "        vertical-align: middle;\n",
       "    }\n",
       "\n",
       "    .dataframe tbody tr th {\n",
       "        vertical-align: top;\n",
       "    }\n",
       "\n",
       "    .dataframe thead th {\n",
       "        text-align: right;\n",
       "    }\n",
       "</style>\n",
       "<table border=\"1\" class=\"dataframe\">\n",
       "  <thead>\n",
       "    <tr style=\"text-align: right;\">\n",
       "      <th></th>\n",
       "      <th>barcode</th>\n",
       "      <th>filename</th>\n",
       "      <th>nodeid3</th>\n",
       "    </tr>\n",
       "  </thead>\n",
       "  <tbody>\n",
       "    <tr>\n",
       "      <th>0</th>\n",
       "      <td>3770001023823</td>\n",
       "      <td>image_1.jpg</td>\n",
       "      <td>1909</td>\n",
       "    </tr>\n",
       "    <tr>\n",
       "      <th>1</th>\n",
       "      <td>3770001023793</td>\n",
       "      <td>image_2.jpg</td>\n",
       "      <td>28543</td>\n",
       "    </tr>\n",
       "    <tr>\n",
       "      <th>2</th>\n",
       "      <td>3560070538805</td>\n",
       "      <td>image_3.jpg</td>\n",
       "      <td>1912</td>\n",
       "    </tr>\n",
       "    <tr>\n",
       "      <th>3</th>\n",
       "      <td>3700146205532</td>\n",
       "      <td>image_4.jpg</td>\n",
       "      <td>28543</td>\n",
       "    </tr>\n",
       "    <tr>\n",
       "      <th>4</th>\n",
       "      <td>3329480018815</td>\n",
       "      <td>image_5.jpg</td>\n",
       "      <td>28543</td>\n",
       "    </tr>\n",
       "  </tbody>\n",
       "</table>\n",
       "</div>"
      ],
      "text/plain": [
       "         barcode     filename  nodeid3\n",
       "0  3770001023823  image_1.jpg     1909\n",
       "1  3770001023793  image_2.jpg    28543\n",
       "2  3560070538805  image_3.jpg     1912\n",
       "3  3700146205532  image_4.jpg    28543\n",
       "4  3329480018815  image_5.jpg    28543"
      ]
     },
     "execution_count": 11,
     "metadata": {
      "tags": []
     },
     "output_type": "execute_result"
    }
   ],
   "source": [
    "added_images.head()"
   ]
  },
  {
   "cell_type": "code",
   "execution_count": 12,
   "metadata": {
    "id": "lGmK9QTNDnET"
   },
   "outputs": [],
   "source": [
    "added_images.to_csv(\"added_images.csv\", index=False)"
   ]
  }
 ],
 "metadata": {
  "colab": {
   "collapsed_sections": [],
   "name": "scraping.ipynb",
   "provenance": []
  },
  "kernelspec": {
   "display_name": "Python 3",
   "language": "python",
   "name": "python3"
  },
  "language_info": {
   "codemirror_mode": {
    "name": "ipython",
    "version": 3
   },
   "file_extension": ".py",
   "mimetype": "text/x-python",
   "name": "python",
   "nbconvert_exporter": "python",
   "pygments_lexer": "ipython3",
   "version": "3.6.0"
  }
 },
 "nbformat": 4,
 "nbformat_minor": 1
}
